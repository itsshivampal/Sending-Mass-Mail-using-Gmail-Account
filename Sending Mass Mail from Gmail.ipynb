{
 "cells": [
  {
   "cell_type": "markdown",
   "metadata": {},
   "source": [
    "# Introduction\n",
    "\n",
    "Following code is for sending mass emails to recipients from Gmail account\n",
    "<br><br>\n",
    "Change Gmail settings - https://myaccount.google.com/lesssecureapps"
   ]
  },
  {
   "cell_type": "markdown",
   "metadata": {},
   "source": [
    "## Import Libraries"
   ]
  },
  {
   "cell_type": "code",
   "execution_count": 4,
   "metadata": {},
   "outputs": [],
   "source": [
    "from bs4 import BeautifulSoup\n",
    "import urllib.request as urllib2\n",
    "import requests\n",
    "import re\n",
    "import pandas as pd\n",
    "\n",
    "import email\n",
    "import smtplib\n",
    "import ssl\n",
    "\n",
    "from email.mime.multipart import MIMEMultipart\n",
    "from email.mime.text import MIMEText"
   ]
  },
  {
   "cell_type": "markdown",
   "metadata": {},
   "source": [
    "## Message Template Function"
   ]
  },
  {
   "cell_type": "code",
   "execution_count": 1,
   "metadata": {},
   "outputs": [],
   "source": [
    "# here user_name is the name of recipient\n",
    "def MailBodyTemplate(user_name):\n",
    "    message = \"\"\"\\\n",
    "    <html>\n",
    "    <body link=\"#00a5b5\" vlink=\"#00a5b5\" alink=\"#00a5b5\" style=\"margin-top: 20px; margin-bottom: 20px;\">\n",
    "    <div class=\"s12\">\n",
    "        <table class=\" main contenttable\" align=\"center\" style=\"font-weight: normal;border-collapse: collapse;border: 0;margin-left: auto;margin-right: auto;padding: 0;font-family: Arial, sans-serif;color: #555559;background-color: white;font-size: 16px;line-height: 26px;width: 600px;\">\n",
    "            <tr>\n",
    "                <td class=\"border\" style=\"border-collapse: collapse;border: 1px solid #eeeff0;margin: 0;padding: 0;-webkit-text-size-adjust: none;color: #555559;font-family: Arial, sans-serif;font-size: 16px;line-height: 26px;\">\n",
    "                    <table style=\"font-weight: normal;border-collapse: collapse;border: 0;margin: 0;padding: 0;font-family: Arial, sans-serif;\">\n",
    "                        <tr>\n",
    "                            <td colspan=\"4\" valign=\"top\" class=\"image-section\" style=\"border-collapse: collapse;border: 0;margin: 0;padding: 0;-webkit-text-size-adjust: none;color: #fff;font-family: Arial, sans-serif;font-size: 20px;line-height: 26px;background: linear-gradient(45deg, #1de099, #1dc8cd);border-bottom: 0px solid #00a5b5\">\n",
    "                                <h3 style=\"margin: 20px; text-align: center;\">UnchaAI</h3>\n",
    "                            </td>\n",
    "                        </tr>\n",
    "                        <tr>\n",
    "                            <td valign=\"top\" class=\"side title\" style=\"border-collapse: collapse;border: 0;margin: 0;padding: 20px;-webkit-text-size-adjust: none;color: #555559;font-family: Arial, sans-serif;font-size: 16px;line-height: 26px;vertical-align: top;background-color: white;border-top: none;\">\n",
    "                                <table style=\"font-weight: normal;border-collapse: collapse;border: 0;margin: 0;padding: 0;font-family: Arial, sans-serif;\">\n",
    "                                    <tr>\n",
    "                                        <td class=\"head-title\" style=\"border-collapse: collapse;border: 0;margin: 0;padding: 0;-webkit-text-size-adjust: none;color: #555559;font-family: Arial, sans-serif;font-size: 28px;line-height: 34px;font-weight: bold; text-align: center;\">\n",
    "                                            <div class=\"mktEditable\" id=\"main_title\">\n",
    "                                                Paid Internship at UnchaAI\n",
    "                                            </div>\n",
    "                                        </td>\n",
    "                                    </tr>\n",
    "                                    <tr>\n",
    "                                        <td class=\"top-padding\" style=\"border-collapse: collapse;border: 0;margin: 0;padding: 15px 0;-webkit-text-size-adjust: none;color: #555559;font-family: Arial, sans-serif;font-size: 16px;line-height: 21px;\">\n",
    "                                            <hr size=\"1\" color=\"#eeeff0\">\n",
    "                                        </td>\n",
    "                                    </tr>\n",
    "                                    <tr>\n",
    "                                        <td class=\"text\" style=\"border-collapse: collapse;border: 0;margin: 0;padding: 0;-webkit-text-size-adjust: none;color: #555559;font-family: Arial, sans-serif;font-size: 16px;line-height: 26px;\">\n",
    "                                        <div class=\"mktEditable\" id=\"main_text\">\n",
    "                                            Hi {name},<br><br>\n",
    "                                            We are an early-stage EdTech Startup founded by IITians and NITians. We at UnchaAI (http://unchaai.com) are trying to boost the performance of JEE-aspirants by providing them with personal mentorship support. Currently, we are looking for interns who have the passion and zeal to guide JEE-aspirants. The main funda is, you made many mistakes while preparing for JEE, and currently, many other aspirants will make the same mistakes and decrease their chances of getting selected into IIT-JEE. Your experience and knowledge can help many others and without putting in much effort.<br><br>\n",
    "                                            If interested, please fill the form - <a href=\"https://forms.gle/emrcUy64NqL6Eukc7\">https://forms.gle/emrcUy64NqL6Eukc7</a><br><br>\n",
    "                                            <strong>About Internship</strong><br>The internship will be paid and work from home.<br><strong>Duration:</strong> Available at least for two months (If your semester starts in between, then we’ll adjust term accordingly)<br><strong>Stipend:</strong> Stipend will be varied and mainly depend on your time commitment and performance. Net Stipend will be (2500 + 500 (bonus)) Rs/month minimum 1 hr commitment everyday. If you can give more time, then your stipend will increase accordingly.<br><br>\n",
    "                                            <strong>Responsibilities</strong><br>Guide and mentor JEE aspirants, by solving their doubts and interacting with them<br><br>\n",
    "                                            <strong>Prerequisites</strong><br>Must have good knowledge of Physics, Chemistry and Mathematics up to JEE-Advanced level and passion for helping someone<br><br>\n",
    "                                            If interested, please fill the form - <a href=\"https://forms.gle/emrcUy64NqL6Eukc7\">https://forms.gle/emrcUy64NqL6Eukc7</a><br><br>\n",
    "                                            <strong>Benefits</strong><br>                                            \n",
    "                                            1. Stipend + Bonus<br>\n",
    "                                            2. Internship Certificate<br>\n",
    "                                            3. Get the opportunity to work and learn with a growing startup<br>\n",
    "                                            4. Increase your network<br>\n",
    "                                            5. A long term association with Entrepreneurs<br><br>\n",
    "                                            We have an immediate requirement and limited openings so the interview will be on a first-come, first-serve basis. So please don’t wait and fill the form ASAP. We will take submission until 11th August, 11:59 pm.<br><br>\n",
    "                                            For any queries, feel free to contact:<br>Piyush Patel - +91 70071 88949, dapiyushpatel@gmail.com<br><br>\n",
    "                                            Regards,<br>\n",
    "                                            <a href=\"https://reynsiatech.github.io\">Team UnchaAI</a><br>\n",
    "                                        </div>\n",
    "                                        </td>\n",
    "                                    </tr>\n",
    "                                    <tr>\n",
    "                                        <td style=\"border-collapse: collapse;border: 0;margin: 0;padding: 0;-webkit-text-size-adjust: none;color: #555559;font-family: Arial, sans-serif;font-size: 16px;line-height: 24px;\">\n",
    "                                         &nbsp;<br>\n",
    "                                        </td>\n",
    "                                    </tr>\n",
    "                                </table>\n",
    "                            </td>\n",
    "                        </tr>\n",
    "                        <tr bgcolor=\"#fff\" style=\"border-top: 4px solid #00a5b5;\">\n",
    "                            <td valign=\"top\" class=\"footer\" style=\"border-collapse: collapse;border: 0;margin: 0;padding: 0;-webkit-text-size-adjust: none;color: #555559;font-family: Arial, sans-serif;font-size: 16px;line-height: 26px;background: #fff;text-align: center;\">\n",
    "                                <table style=\"font-weight: normal;border-collapse: collapse;border: 0;margin: 0;padding: 0;font-family: Arial, sans-serif;\">\n",
    "                                    <tr>\n",
    "                                        <td class=\"inside-footer\" align=\"center\" valign=\"middle\" style=\"border-collapse: collapse;border: 0;margin: 0;padding: 20px;-webkit-text-size-adjust: none;color: #555559;font-family: Arial, sans-serif;font-size: 12px;line-height: 16px;vertical-align: middle;text-align: center;width: 580px;\">\n",
    "                                        <div id=\"address\" class=\"mktEditable\">\n",
    "                                            <b>UnchaAI</b><br>\n",
    "                                            Reynsia Tech Pvt Ltd.<br>\n",
    "                                            <a style=\"color: #00a5b5;\" href=\"http://unchaai.com\">Contact Us</a>\n",
    "                                        </div>\n",
    "                                        </td>\n",
    "                                    </tr>\n",
    "                                </table>\n",
    "                            </td>\n",
    "                        </tr>\n",
    "                    </table>\n",
    "                </td>\n",
    "            </tr>\n",
    "        </table>\n",
    "    </div>\n",
    "    </body>\n",
    "    </html>\n",
    "    \n",
    "    \n",
    "    \"\"\".format(name = user_name)\n",
    "    \n",
    "    return message"
   ]
  },
  {
   "cell_type": "markdown",
   "metadata": {},
   "source": [
    "## Send Mail Function"
   ]
  },
  {
   "cell_type": "code",
   "execution_count": 4,
   "metadata": {},
   "outputs": [],
   "source": [
    "# user_name: Name of the recipient\n",
    "# user_mail_id: Mail Id of the recipient\n",
    "\n",
    "# Sender Mial Account Details\n",
    "admin_email = '<email-id of the sender>'\n",
    "admin_password = '<password of the Gmail Account>'\n",
    "admin_name = 'UnchaAI Admin' # enter name which you like to display\n",
    "email_subject = 'Business Development (Sales) work from home internship at UnchaAI'\n",
    "\n",
    "\n",
    "def send_mail(user_name, user_mail_id):\n",
    "    server = smtplib.SMTP('smtp.gmail.com', 587)\n",
    "    server.starttls()\n",
    "    server.login(admin_email, admin_password)\n",
    "\n",
    "    msg = MIMEMultipart()\n",
    "    msg['From'] = admin_name\n",
    "    msg['To'] = user_mail_id\n",
    "    msg['Subject'] = email_subject\n",
    "\n",
    "    message = MailBodyTemplate(user_name)\n",
    "\n",
    "    msg.attach(MIMEText(message, 'html'))\n",
    "    text = msg.as_string()\n",
    "    server.sendmail(admin_email, user_mail_id, text)\n",
    "\n",
    "    server.quit()"
   ]
  },
  {
   "cell_type": "markdown",
   "metadata": {},
   "source": [
    "## Mail Testing"
   ]
  },
  {
   "cell_type": "code",
   "execution_count": 10,
   "metadata": {},
   "outputs": [],
   "source": [
    "user_name = \"Shivam Pal\"\n",
    "email = \"shivam.pal128@gmail.com\"\n",
    "send_mail(user_name, email)\n",
    "\n",
    "user_name = \"Deepak Kumar\"\n",
    "email = \"dk24pk@gmail.com\"\n",
    "send_mail(user_name, email)\n",
    "\n",
    "user_name = \"Piyush Patel\"\n",
    "email = \"dapiyushpatel@gmail.com\"\n",
    "send_mail(user_name, email)"
   ]
  },
  {
   "cell_type": "code",
   "execution_count": null,
   "metadata": {},
   "outputs": [],
   "source": []
  },
  {
   "cell_type": "markdown",
   "metadata": {},
   "source": [
    "## Filtering Students from CSV Data"
   ]
  },
  {
   "cell_type": "code",
   "execution_count": 15,
   "metadata": {},
   "outputs": [],
   "source": [
    "df = pd.read_csv(\"y19.csv\")\n",
    "df_civil = df[df[\"Department\"] == \"CIVIL ENGG.\"].reset_index()[50:]\n",
    "df_chem = df[df[\"Department\"] == \"CHEMICAL ENGG.\"].reset_index()[50:]\n",
    "df_mse = df[df[\"Department\"] == \"MATERIALS SCIENCE & ENGG.\"].reset_index()\n",
    "df_mech = df[df[\"Department\"] == \"MECHANICAL ENGINEERING\"].reset_index()"
   ]
  },
  {
   "cell_type": "code",
   "execution_count": null,
   "metadata": {},
   "outputs": [],
   "source": []
  },
  {
   "cell_type": "markdown",
   "metadata": {},
   "source": [
    "## Sending Mail to Selected Students"
   ]
  },
  {
   "cell_type": "code",
   "execution_count": 48,
   "metadata": {},
   "outputs": [],
   "source": [
    "# Sending mails to civil eng. students\n",
    "\n",
    "# for i in range(df_civil.shape[0]):\n",
    "#     name = df_civil[[\"Name\"]].iloc[i].values[0]\n",
    "#     email = df_civil[[\"Email\"]].iloc[i].values[0]\n",
    "#     print(name, email)\n",
    "#     send_mail(name, email)"
   ]
  }
 ],
 "metadata": {
  "kernelspec": {
   "display_name": "Python 3",
   "language": "python",
   "name": "python3"
  },
  "language_info": {
   "codemirror_mode": {
    "name": "ipython",
    "version": 3
   },
   "file_extension": ".py",
   "mimetype": "text/x-python",
   "name": "python",
   "nbconvert_exporter": "python",
   "pygments_lexer": "ipython3",
   "version": "3.8.5"
  }
 },
 "nbformat": 4,
 "nbformat_minor": 2
}
